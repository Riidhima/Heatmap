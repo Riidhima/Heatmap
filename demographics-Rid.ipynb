{
 "cells": [
  {
   "cell_type": "code",
   "execution_count": 1,
   "metadata": {},
   "outputs": [],
   "source": [
    "import pandas as pd\n",
    "import numpy as np\n",
    "from data_utility import readCsvFile"
   ]
  },
  {
   "cell_type": "code",
   "execution_count": 2,
   "metadata": {},
   "outputs": [],
   "source": [
    "import NYC_GetCleaned_HistoricData \n",
    "import data_utility\n",
    "import NYC_GetCleaned_TotalPopulation"
   ]
  },
  {
   "cell_type": "code",
   "execution_count": 3,
   "metadata": {},
   "outputs": [],
   "source": [
    "from NYC_GetCleaned_HistoricData import getCleanedData\n",
    "from NYC_GetCleaned_TotalPopulation import getMeanPopulation"
   ]
  },
  {
   "cell_type": "code",
   "execution_count": 23,
   "metadata": {},
   "outputs": [
    {
     "data": {
      "text/html": [
       "<div>\n",
       "<style scoped>\n",
       "    .dataframe tbody tr th:only-of-type {\n",
       "        vertical-align: middle;\n",
       "    }\n",
       "\n",
       "    .dataframe tbody tr th {\n",
       "        vertical-align: top;\n",
       "    }\n",
       "\n",
       "    .dataframe thead th {\n",
       "        text-align: right;\n",
       "    }\n",
       "</style>\n",
       "<table border=\"1\" class=\"dataframe\">\n",
       "  <thead>\n",
       "    <tr style=\"text-align: right;\">\n",
       "      <th></th>\n",
       "      <th>Borough</th>\n",
       "      <th>Estimated Population</th>\n",
       "      <th>Land Area (sq mi)</th>\n",
       "      <th>Density (per/sq mi)</th>\n",
       "      <th>Poverty Rate (%)</th>\n",
       "      <th>Mean Household Income</th>\n",
       "      <th>Median Household Income</th>\n",
       "      <th>Adults Not Graduated (%)</th>\n",
       "    </tr>\n",
       "  </thead>\n",
       "  <tbody>\n",
       "    <tr>\n",
       "      <th>0</th>\n",
       "      <td>Bronx</td>\n",
       "      <td>1471160</td>\n",
       "      <td>42.10</td>\n",
       "      <td>34653</td>\n",
       "      <td>27.1</td>\n",
       "      <td>46298</td>\n",
       "      <td>34156</td>\n",
       "      <td>38.38</td>\n",
       "    </tr>\n",
       "    <tr>\n",
       "      <th>1</th>\n",
       "      <td>Brooklyn</td>\n",
       "      <td>2648771</td>\n",
       "      <td>70.82</td>\n",
       "      <td>37137</td>\n",
       "      <td>21.9</td>\n",
       "      <td>60020</td>\n",
       "      <td>41406</td>\n",
       "      <td>33.29</td>\n",
       "    </tr>\n",
       "    <tr>\n",
       "      <th>2</th>\n",
       "      <td>Manhattan</td>\n",
       "      <td>1664727</td>\n",
       "      <td>22.83</td>\n",
       "      <td>72033</td>\n",
       "      <td>17.6</td>\n",
       "      <td>121549</td>\n",
       "      <td>64217</td>\n",
       "      <td>22.10</td>\n",
       "    </tr>\n",
       "    <tr>\n",
       "      <th>3</th>\n",
       "      <td>Queens</td>\n",
       "      <td>2358582</td>\n",
       "      <td>108.53</td>\n",
       "      <td>21460</td>\n",
       "      <td>12.0</td>\n",
       "      <td>67027</td>\n",
       "      <td>53171</td>\n",
       "      <td>23.86</td>\n",
       "    </tr>\n",
       "    <tr>\n",
       "      <th>4</th>\n",
       "      <td>Staten Island</td>\n",
       "      <td>479458</td>\n",
       "      <td>58.37</td>\n",
       "      <td>8112</td>\n",
       "      <td>9.8</td>\n",
       "      <td>81498</td>\n",
       "      <td>66985</td>\n",
       "      <td>18.43</td>\n",
       "    </tr>\n",
       "  </tbody>\n",
       "</table>\n",
       "</div>"
      ],
      "text/plain": [
       "         Borough  Estimated Population  Land Area (sq mi)  \\\n",
       "0          Bronx               1471160              42.10   \n",
       "1       Brooklyn               2648771              70.82   \n",
       "2      Manhattan               1664727              22.83   \n",
       "3         Queens               2358582             108.53   \n",
       "4  Staten Island                479458              58.37   \n",
       "\n",
       "   Density (per/sq mi)  Poverty Rate (%)  Mean Household Income  \\\n",
       "0                34653              27.1                  46298   \n",
       "1                37137              21.9                  60020   \n",
       "2                72033              17.6                 121549   \n",
       "3                21460              12.0                  67027   \n",
       "4                 8112               9.8                  81498   \n",
       "\n",
       "   Median Household Income  Adults Not Graduated (%)  \n",
       "0                    34156                     38.38  \n",
       "1                    41406                     33.29  \n",
       "2                    64217                     22.10  \n",
       "3                    53171                     23.86  \n",
       "4                    66985                     18.43  "
      ]
     },
     "execution_count": 23,
     "metadata": {},
     "output_type": "execute_result"
    }
   ],
   "source": [
    "## Read CSV\n",
    "demof = readCsvFile('../Data/NYC_Demographics.csv')\n",
    "demof"
   ]
  },
  {
   "cell_type": "code",
   "execution_count": 25,
   "metadata": {},
   "outputs": [
    {
     "data": {
      "text/plain": [
       "0    1471160\n",
       "1    2648771\n",
       "2    1664727\n",
       "3    2358582\n",
       "4     479458\n",
       "Name: Estimated Population, dtype: int64"
      ]
     },
     "execution_count": 25,
     "metadata": {},
     "output_type": "execute_result"
    }
   ],
   "source": [
    "ET=demof['Estimated Population']\n",
    "ET"
   ]
  },
  {
   "cell_type": "code",
   "execution_count": 27,
   "metadata": {},
   "outputs": [
    {
     "data": {
      "text/plain": [
       "0    27.1\n",
       "1    21.9\n",
       "2    17.6\n",
       "3    12.0\n",
       "4     9.8\n",
       "Name: Poverty Rate (%), dtype: float64"
      ]
     },
     "execution_count": 27,
     "metadata": {},
     "output_type": "execute_result"
    }
   ],
   "source": [
    "PR=demof['Poverty Rate (%)']\n",
    "PR"
   ]
  },
  {
   "cell_type": "code",
   "execution_count": 15,
   "metadata": {},
   "outputs": [
    {
     "data": {
      "text/plain": [
       "8622698"
      ]
     },
     "execution_count": 15,
     "metadata": {},
     "output_type": "execute_result"
    }
   ],
   "source": [
    "est_nyc_pop=sum(demof['Estimated Population'])\n",
    "est_nyc_pop"
   ]
  },
  {
   "cell_type": "code",
   "execution_count": 40,
   "metadata": {},
   "outputs": [
    {
     "data": {
      "text/html": [
       "<div>\n",
       "<style scoped>\n",
       "    .dataframe tbody tr th:only-of-type {\n",
       "        vertical-align: middle;\n",
       "    }\n",
       "\n",
       "    .dataframe tbody tr th {\n",
       "        vertical-align: top;\n",
       "    }\n",
       "\n",
       "    .dataframe thead th {\n",
       "        text-align: right;\n",
       "    }\n",
       "</style>\n",
       "<table border=\"1\" class=\"dataframe\">\n",
       "  <thead>\n",
       "    <tr style=\"text-align: right;\">\n",
       "      <th></th>\n",
       "      <th>Borough</th>\n",
       "      <th>Estimated Population</th>\n",
       "      <th>Poverty Rate (%)</th>\n",
       "    </tr>\n",
       "  </thead>\n",
       "  <tbody>\n",
       "    <tr>\n",
       "      <th>0</th>\n",
       "      <td>Bronx</td>\n",
       "      <td>1471160</td>\n",
       "      <td>27.1</td>\n",
       "    </tr>\n",
       "    <tr>\n",
       "      <th>1</th>\n",
       "      <td>Brooklyn</td>\n",
       "      <td>2648771</td>\n",
       "      <td>21.9</td>\n",
       "    </tr>\n",
       "    <tr>\n",
       "      <th>2</th>\n",
       "      <td>Manhattan</td>\n",
       "      <td>1664727</td>\n",
       "      <td>17.6</td>\n",
       "    </tr>\n",
       "    <tr>\n",
       "      <th>3</th>\n",
       "      <td>Queens</td>\n",
       "      <td>2358582</td>\n",
       "      <td>12.0</td>\n",
       "    </tr>\n",
       "    <tr>\n",
       "      <th>4</th>\n",
       "      <td>Staten Island</td>\n",
       "      <td>479458</td>\n",
       "      <td>9.8</td>\n",
       "    </tr>\n",
       "  </tbody>\n",
       "</table>\n",
       "</div>"
      ],
      "text/plain": [
       "         Borough  Estimated Population  Poverty Rate (%)\n",
       "0          Bronx               1471160              27.1\n",
       "1       Brooklyn               2648771              21.9\n",
       "2      Manhattan               1664727              17.6\n",
       "3         Queens               2358582              12.0\n",
       "4  Staten Island                479458               9.8"
      ]
     },
     "execution_count": 40,
     "metadata": {},
     "output_type": "execute_result"
    }
   ],
   "source": [
    "PR=demof.loc[:,('Borough','Estimated Population','Poverty Rate (%)')]\n",
    "PR"
   ]
  },
  {
   "cell_type": "code",
   "execution_count": 47,
   "metadata": {},
   "outputs": [
    {
     "data": {
      "image/png": "[encoded data removed]",
      "text/plain": [
       "<Figure size 1008x576 with 1 Axes>"
      ]
     },
     "metadata": {
      "needs_background": "light"
     },
     "output_type": "display_data"
    }
   ],
   "source": [
    "import matplotlib.pyplot as plt\n",
    "import seaborn as sns\n",
    "\n",
    "PR['per_ind_pov'] =  (PR['Estimated Population'] * (PR['Poverty Rate (%)'])/100)/(est_nyc_pop)\n",
    "\n",
    "a4_dims = (14, 8)\n",
    "fig, ax = plt.subplots(figsize=a4_dims)\n",
    "sns.barplot(x='Borough', y='per_ind_pov', data=PR, ax=ax)\n",
    "plt.ylabel('No. of Individuals categorised under poverty')\n",
    "plt.title('As per population')\n",
    "plt.show()"
   ]
  },
  {
   "cell_type": "code",
   "execution_count": 48,
   "metadata": {},
   "outputs": [
    {
     "data": {
      "text/html": [
       "<div>\n",
       "<style scoped>\n",
       "    .dataframe tbody tr th:only-of-type {\n",
       "        vertical-align: middle;\n",
       "    }\n",
       "\n",
       "    .dataframe tbody tr th {\n",
       "        vertical-align: top;\n",
       "    }\n",
       "\n",
       "    .dataframe thead th {\n",
       "        text-align: right;\n",
       "    }\n",
       "</style>\n",
       "<table border=\"1\" class=\"dataframe\">\n",
       "  <thead>\n",
       "    <tr style=\"text-align: right;\">\n",
       "      <th></th>\n",
       "      <th>Borough</th>\n",
       "      <th>Estimated Population</th>\n",
       "      <th>Adults Not Graduated (%)</th>\n",
       "    </tr>\n",
       "  </thead>\n",
       "  <tbody>\n",
       "    <tr>\n",
       "      <th>0</th>\n",
       "      <td>Bronx</td>\n",
       "      <td>1471160</td>\n",
       "      <td>38.38</td>\n",
       "    </tr>\n",
       "    <tr>\n",
       "      <th>1</th>\n",
       "      <td>Brooklyn</td>\n",
       "      <td>2648771</td>\n",
       "      <td>33.29</td>\n",
       "    </tr>\n",
       "    <tr>\n",
       "      <th>2</th>\n",
       "      <td>Manhattan</td>\n",
       "      <td>1664727</td>\n",
       "      <td>22.10</td>\n",
       "    </tr>\n",
       "    <tr>\n",
       "      <th>3</th>\n",
       "      <td>Queens</td>\n",
       "      <td>2358582</td>\n",
       "      <td>23.86</td>\n",
       "    </tr>\n",
       "    <tr>\n",
       "      <th>4</th>\n",
       "      <td>Staten Island</td>\n",
       "      <td>479458</td>\n",
       "      <td>18.43</td>\n",
       "    </tr>\n",
       "  </tbody>\n",
       "</table>\n",
       "</div>"
      ],
      "text/plain": [
       "         Borough  Estimated Population  Adults Not Graduated (%)\n",
       "0          Bronx               1471160                     38.38\n",
       "1       Brooklyn               2648771                     33.29\n",
       "2      Manhattan               1664727                     22.10\n",
       "3         Queens               2358582                     23.86\n",
       "4  Staten Island                479458                     18.43"
      ]
     },
     "execution_count": 48,
     "metadata": {},
     "output_type": "execute_result"
    }
   ],
   "source": [
    "Edu=demof.loc[:,('Borough','Estimated Population','Adults Not Graduated (%)')]\n",
    "Edu"
   ]
  },
  {
   "cell_type": "code",
   "execution_count": 51,
   "metadata": {},
   "outputs": [
    {
     "data": {
      "image/png": "[encoded data removed]",
      "text/plain": [
       "<Figure size 1008x576 with 1 Axes>"
      ]
     },
     "metadata": {
      "needs_background": "light"
     },
     "output_type": "display_data"
    }
   ],
   "source": [
    "Edu['per_ind_nograd'] =  (Edu['Estimated Population'] * (Edu['Adults Not Graduated (%)'])/100)/(est_nyc_pop)\n",
    "\n",
    "a4_dims = (14, 8)\n",
    "fig, ax = plt.subplots(figsize=a4_dims)\n",
    "sns.barplot(x='Borough', y='per_ind_nograd', data=Edu, ax=ax)\n",
    "plt.ylabel('No. of Individuals categorised under not graduated')\n",
    "plt.title('As per population')\n",
    "plt.show()"
   ]
  },
  {
   "cell_type": "code",
   "execution_count": null,
   "metadata": {},
   "outputs": [],
   "source": [
    "#population density of borough\n"
   ]
  }
 ],
 "metadata": {
  "kernelspec": {
   "display_name": "Python 3",
   "language": "python",
   "name": "python3"
  },
  "language_info": {
   "codemirror_mode": {
    "name": "ipython",
    "version": 3
   },
   "file_extension": ".py",
   "mimetype": "text/x-python",
   "name": "python",
   "nbconvert_exporter": "python",
   "pygments_lexer": "ipython3",
   "version": "3.7.0"
  }
 },
 "nbformat": 4,
 "nbformat_minor": 2
}
